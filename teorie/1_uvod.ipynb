{
 "cells": [
  {
   "cell_type": "markdown",
   "metadata": {},
   "source": [
    "![Python logo](../obrazky/python_logo.png)\n",
    "\n",
    "# Úvod\n",
    "\n",
    "---\n",
    "\n",
    "V tomto kroužku se budeme zabývat programovacím jazykem Python [pajtn]. Python je vysokoúrovňový programovací jazyk, dnes je velmi rozšířený hlavně kvůli tomu že je intuitivní, jednoduchý a univerzální. Většina dnešních mladých programátorů o Python už někdy zavadila, Python je totiž velmi oblíbený programovací jazyk pro výuku programování. Postupně si projdeme jeho základní příkazy a přitom se budeme snažit pochopit principy samotného programování, protože příkazy jednotlivých programovacích jazyků se mohou lišit ale princip programování zůstává stejný. V tomto kroužku se podíváme postupně i na různé části informatiky jako je binární soustava nebo samotný počítač abychom lépe pochopili jak a co vlastně programujeme. \n",
    "\n",
    "Nebudete se muset učit mnoho věcí nazpamět (ideálně žádné a to co si během roku zapamatujete bude jen díky tomu, že to použijete mnohokrát), jde nám o princip toho jak to funguje a jak přesně se to zapisuje si můžete kdykoli dohledat.\n",
    "\n",
    "Než se vrhneme na samotný Python tak si povíme co to vlastně je programovací jazyk a co to znamená, že je vysokoúrovňový...\n",
    "\n",
    "Programovací jazyky slouží k ovládání počítače, výsledkem programování v nějakém programovacím jazyce je program, což je soubor různých příkazů, které dokupy plní nějaký úkol neboli cíl programu. Příkazy z každého programovacího jazyka se překládají na tzv. strojový kód, což jsou už nuly a jedničky, kterým počítač rozumí. Vysokoúrovňový znamená, že příkazy Pythonu jsou velmi vzdáleny od tohoto strojového kódu (to nám prozatím stačí, je to ale výrazně složitější).\n",
    "\n",
    "Každý programovací jazyk se hodí k jiným účelům, některé slouží k programování Windows aplikací, jiné slouží k získání výsledků složitých fyzikálních výpočtů a další k programování webových aplikací.\n",
    "\n",
    "# Python \n",
    "\n",
    "---\n",
    "\n",
    "Python byl vytvořen Guido van Rossumem a poprvé vydán v roce 1991. Není to tedy žhavá novinka, nicméně Python nabírá pořád na oblibě a to nejen u informatiků ale i fyzyků či matematiků. Python si prošel několika verzemi, každá nová ho měla za cíl ještě dále zlepšit, nejnovětší verze Pythonu je 3.12.6 k září 2024 (a beru v potaz jen tzv. stabilní verze, tedy ty u kterým by měli být odladěny chyby).\n",
    "\n",
    "![Guido van Rossum](../obrazky/guido_van_rossum.jpg)\n",
    "\n",
    "Jak bylo řečeno, Python je vysokoúrovňový jazyk a díky tomu je jednoduché pro nás lidi po nějakém čase s Pythonem efektivně a rychle programovat, tohle je ale vykoupeno tím, že samotnému počítači trvá déle Python program zpracovat.\n",
    "\n",
    "**Jak ale vůbec spustit Python kód na našem počítači?** Prozatím si vystačíme s webovými editory Pythonu a až pochytíme základy tak se vrhenem na editory, které nám toho nabídnou více. Budeme používat [Online Python](https://www.online-python.com/) (v tom to budu ukazovat já) ale existují i jiné např. [Programiz](https://www.programiz.com/python-programming/online-compiler/) nebo [Replit](https://replit.com/languages/python3). Později přejdeme na editor [VSCode](https://code.visualstudio.com/).\n",
    "\n"
   ]
  }
 ],
 "metadata": {
  "kernelspec": {
   "display_name": ".venv",
   "language": "python",
   "name": "python3"
  },
  "language_info": {
   "codemirror_mode": {
    "name": "ipython",
    "version": 3
   },
   "file_extension": ".py",
   "mimetype": "text/x-python",
   "name": "python",
   "nbconvert_exporter": "python",
   "pygments_lexer": "ipython3",
   "version": "3.12.4"
  }
 },
 "nbformat": 4,
 "nbformat_minor": 2
}
