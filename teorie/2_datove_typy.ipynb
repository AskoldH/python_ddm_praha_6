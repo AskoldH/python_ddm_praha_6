{
 "cells": [
  {
   "cell_type": "markdown",
   "metadata": {},
   "source": [
    "# Proměnné a datové typy\n",
    "\n",
    "---\n",
    "\n",
    "Proměnná obecně v programovacích jazycích je **pojmenování** nějaká informace (textu, čísla, ...). Tuhle informaci máme uloženou v paměti počítače. S proměnnými se dají dělat různé operace podle datového typu této proměnné. Datový typ je jednoduše informace o tom, co bychom měli v dané proměnné očekávat, někdy chceme pracovat s čísli a tak naším datovým typem je čislo. \n",
    "\n",
    "Poznámka č.1: Funkci print(), která je v tomto souboru používaná si více ukážeme v dalším souboru, zatím jí rozumnět nemusíte.\n",
    "\n",
    "Poznámka č.2: V ukázkách se objevují popisky zvané komentáře, označují se znakem # (hashtag). Cokoli je za znakem # Python nevykonává jako instrukce.\n",
    " \n",
    "Přehled datových typů v Pythonu, jak vyrobíme proměnnou daného typu v Pythonu a co s takovou proměnnou můžeme dělat za operace:\n",
    "\n",
    "# 1) Celé číslo (integer, zkráceně int):"
   ]
  },
  {
   "cell_type": "markdown",
   "metadata": {},
   "source": [
    "Čísla se zapisují jednoduše, jen ho napíšeme. Proměnnou vytvoříme tak, že napíšeme její jméno a pomocí znaku rovná se do ní přiřadíme hodnotu (v tomto případě mají čtyři proměnné hodnoty 8, 0, -3, 185)."
   ]
  },
  {
   "cell_type": "code",
   "execution_count": 2,
   "metadata": {},
   "outputs": [],
   "source": [
    "cislo_1 = 8\n",
    "\n",
    "cislo_2 = 0\n",
    "\n",
    "cislo_3 = -3\n",
    "\n",
    "cislo_4 = 185"
   ]
  },
  {
   "cell_type": "markdown",
   "metadata": {},
   "source": [
    "S čísli můžeme dělat operace, které už dobře znáte z matematiky, sčítat (+), odčítat (-), násobit (*), dělit (/), dělit celočíselně (//), číslo umocnit (**) a nebo i zjistit zbytek po dělení dvou čísel (%)."
   ]
  },
  {
   "cell_type": "code",
   "execution_count": 3,
   "metadata": {},
   "outputs": [
    {
     "name": "stdout",
     "output_type": "stream",
     "text": [
      "13\n",
      "5\n",
      "36\n",
      "2.25\n",
      "2\n",
      "1\n"
     ]
    }
   ],
   "source": [
    "cislo_1 = 9\n",
    "cislo_2 = 4\n",
    "\n",
    "print(cislo_1 + cislo_2)\n",
    "print(cislo_1 - cislo_2)\n",
    "print(cislo_1 * cislo_2)\n",
    "print(cislo_1 / cislo_2)\n",
    "print(cislo_1 // cislo_2)\n",
    "print(cislo_1 % cislo_2)\n",
    "\n",
    "# sedí výsledky co by jste očekávali?"
   ]
  },
  {
   "cell_type": "markdown",
   "metadata": {},
   "source": [
    "# 2) Desetinné číslo (floating point number, zkráceně float)."
   ]
  },
  {
   "cell_type": "markdown",
   "metadata": {},
   "source": [
    "Zapisujeme je obdobně jako celá čísla, desetinnou část čísla píšeme za tečku (.) nikoli za čárku (,)."
   ]
  },
  {
   "cell_type": "code",
   "execution_count": 4,
   "metadata": {},
   "outputs": [],
   "source": [
    "desetinne_cislo_1 = 1.5\n",
    "\n",
    "desetinne_cislo_2 = 2.125\n",
    "\n",
    "desetinne_cislo_3 = -7.137\n",
    "\n",
    "desetinne_cislo_4 = 3.14159265359"
   ]
  },
  {
   "cell_type": "markdown",
   "metadata": {},
   "source": [
    "Fungují zde stejné operace jako u celých čísel, zapisujeme je stejně."
   ]
  },
  {
   "cell_type": "code",
   "execution_count": 7,
   "metadata": {},
   "outputs": [
    {
     "name": "stdout",
     "output_type": "stream",
     "text": [
      "7.0\n",
      "4.0\n",
      "8.25\n",
      "3.6666666666666665\n",
      "3.0\n",
      "1.0\n"
     ]
    }
   ],
   "source": [
    "desetinne_cislo_1 = 5.5\n",
    "desetinne_cislo_2 = 1.5\n",
    "\n",
    "print(desetinne_cislo_1 + desetinne_cislo_2)\n",
    "print(desetinne_cislo_1 - desetinne_cislo_2)\n",
    "print(desetinne_cislo_1 * desetinne_cislo_2)\n",
    "print(desetinne_cislo_1 / desetinne_cislo_2)\n",
    "print(desetinne_cislo_1 // desetinne_cislo_2)\n",
    "print(desetinne_cislo_1 % desetinne_cislo_2)\n",
    "\n",
    "# sedí výsledky co by jste očekávali?"
   ]
  },
  {
   "cell_type": "markdown",
   "metadata": {},
   "source": [
    "# 3) Písmeno (character, zkráceně char) a text (string, zkráceně str)\n",
    "\n",
    "Písmena a texty v Pythonu zapisujeme do uvozovek, buďto do dvojitých (\"\") nebo do jednoduchých (''), funguje obojí. \n",
    "\n",
    "Poznámka: Často jedno písmeno (jeden charakter) zapisujeme do jednoduchých uvozovek (''), takto to totiž je v ostatních jazycích."
   ]
  },
  {
   "cell_type": "code",
   "execution_count": null,
   "metadata": {},
   "outputs": [],
   "source": [
    "text_1 = \"Ahojda Franto!\"\n",
    "\n",
    "pismeno_1 = 'a'"
   ]
  },
  {
   "cell_type": "markdown",
   "metadata": {},
   "source": [
    "S texty a písmeny můžeme kromě vypisování na obrazovku dělat i různé další zajímavé operace jako je sčítaní textů nebo násobení textů. Tyto operace jsou specialitou Pythonu a v jiných programovacích jazycích je nehledejte."
   ]
  },
  {
   "cell_type": "code",
   "execution_count": 8,
   "metadata": {},
   "outputs": [
    {
     "name": "stdout",
     "output_type": "stream",
     "text": [
      "Ahoj Pepo!\n",
      "ooooo\n"
     ]
    }
   ],
   "source": [
    "text_1 = \"Ahoj \"\n",
    "text_2 = \"Pepo!\"\n",
    "\n",
    "print(text_1 + text_2)\n",
    "\n",
    "pismeno_1 = 'o'\n",
    "\n",
    "print(pismeno_1 * 5)"
   ]
  },
  {
   "cell_type": "markdown",
   "metadata": {},
   "source": [
    "# 4) Pravda/nepravda (boolean, zkráceně bool)\n",
    "\n",
    "Boolean (český výrez nemá zavedený) datový typ může nabývat pouze dvou hodnot a to pravdy (True) a nepravdy (False). Více ho probereme v následujících souborech a zatím ho používat nebudeme."
   ]
  },
  {
   "cell_type": "code",
   "execution_count": 9,
   "metadata": {},
   "outputs": [
    {
     "name": "stdout",
     "output_type": "stream",
     "text": [
      "True\n",
      "False\n"
     ]
    }
   ],
   "source": [
    "hodnota_1 = True\n",
    "hodnota_2 = False\n",
    "\n",
    "print(hodnota_1)\n",
    "print(hodnota_2)\n"
   ]
  },
  {
   "cell_type": "markdown",
   "metadata": {},
   "source": [
    "**Důležíté je si uvědomit, že operace které můžeme dělat s různými datovými typy, záleží na právě tom typu, nemůžeme například dělit texty, i když by v textu byly jen čísla!**"
   ]
  }
 ],
 "metadata": {
  "kernelspec": {
   "display_name": ".venv",
   "language": "python",
   "name": "python3"
  },
  "language_info": {
   "codemirror_mode": {
    "name": "ipython",
    "version": 3
   },
   "file_extension": ".py",
   "mimetype": "text/x-python",
   "name": "python",
   "nbconvert_exporter": "python",
   "pygments_lexer": "ipython3",
   "version": "3.12.4"
  }
 },
 "nbformat": 4,
 "nbformat_minor": 2
}
