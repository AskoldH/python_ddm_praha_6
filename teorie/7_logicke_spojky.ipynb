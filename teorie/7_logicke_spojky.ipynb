{
 "cells": [
  {
   "cell_type": "markdown",
   "metadata": {},
   "source": [
    "# Logické spojky v Pythonu\n",
    "\n",
    "---\n",
    "\n",
    "Upozornění: Tento soubor navazuje na doplňkový [soubor](../doplnkove_soubory/logicke_spojky_NOT_AND_OR.pdf) k tématu logické spojky. Je dobré si projít nejdřív doplňkový soubor. Bude to zde vysvětleno jen zrychlně  \n",
    "\n",
    "V Pythonu používáme tři základní logické spojky a to NOT (značíme `not`) AND (značíme `and`) a OR (značíme `or`). Pravdivostní hodnoty těchto spojek zavisí na jejich vstupech a to si ukážeme na tabulkách pravdivostních hodnot:\n",
    "\n",
    "Pravdivostní tabulku pro and, or a not:\n",
    "|Výraz 1|Výraz 1|Výraz 1 and Výraz 2|\n",
    "|:-:|:-:|:-:|\n",
    "|0|0|0|\n",
    "|0|1|0|\n",
    "|1|0|0|\n",
    "|1|1|1|"
   ]
  },
  {
   "cell_type": "markdown",
   "metadata": {},
   "source": [
    "|Výraz 1|Výraz 2|Výraz 1 or Výraz 2|\n",
    "|:-:|:-:|:-:|\n",
    "|0|0|0|\n",
    "|0|1|1|\n",
    "|1|0|1|\n",
    "|1|1|1|"
   ]
  },
  {
   "cell_type": "markdown",
   "metadata": {},
   "source": [
    "\n",
    "|Výraz 1|not Výraz 1|\n",
    "|:-:|:-:|\n",
    "|0|1|\n",
    "|1|0|"
   ]
  },
  {
   "cell_type": "markdown",
   "metadata": {},
   "source": [
    "Díky těmto logickým spojkám můžeme tedy psát složitější výrazy do podmínek v Pythonu, tedy např.:"
   ]
  },
  {
   "cell_type": "code",
   "execution_count": null,
   "metadata": {},
   "outputs": [
    {
     "ename": "",
     "evalue": "",
     "output_type": "error",
     "traceback": [
      "\u001b[1;31mRunning cells with 'Python 3.13.1' requires the ipykernel package.\n",
      "\u001b[1;31mRun the following command to install 'ipykernel' into the Python environment. \n",
      "\u001b[1;31mCommand: '/bin/python -m pip install ipykernel -U --user --force-reinstall'"
     ]
    }
   ],
   "source": [
    "cislo = 5\n",
    "\n",
    "if cislo > 3 and cislo < 10:\n",
    "  print(\"Je menší než 10 a větší než 3!\")"
   ]
  },
  {
   "cell_type": "code",
   "execution_count": null,
   "metadata": {},
   "outputs": [],
   "source": [
    "cislo = 5\n",
    "\n",
    "if not(cislo > 3):\n",
    "  print(\"Číslo je menší nebo rovno třem!\")"
   ]
  },
  {
   "cell_type": "code",
   "execution_count": null,
   "metadata": {},
   "outputs": [],
   "source": [
    "slovo = input(\"Zadejte jedno slovo: \")\n",
    "\n",
    "if slovo == \"Karel\" or slovo == \"Honza\":\n",
    "  print(f\"Ahoj {slovo}!\")\n",
    "elif slovo == \"Pribiňáček\" or slovo == \"Bueno\":\n",
    "  print(f\"Dal bych si {slovo}!\")\n",
    "else:\n",
    "  print(f\"Slovo {slovo} neznám.\")"
   ]
  },
  {
   "cell_type": "markdown",
   "metadata": {},
   "source": [
    "Všimněme si, že pokud tedy napíšeme do podmínky `or` znamená to, že chceme aby platila pokud platí první výraz nebo druhý, pokud do podmínky napíšeme `and` tak chceme aby podmínka platila pokud platí oba výrazy.\n",
    "\n",
    "K tomuto teoretickému souboru nebudou úkoly nicméně snažme se tyhle logické podmínky využívat tak, aby nám usnadňovali práci s podmínkami kdekoli kde se nám to bude hodit..."
   ]
  }
 ],
 "metadata": {
  "kernelspec": {
   "display_name": "Python 3",
   "language": "python",
   "name": "python3"
  },
  "language_info": {
   "name": "python",
   "version": "3.13.1"
  }
 },
 "nbformat": 4,
 "nbformat_minor": 2
}
