{
 "cells": [
  {
   "cell_type": "markdown",
   "metadata": {},
   "source": [
    "# Co to je funkce? (velmi zrychleně)\n",
    "\n",
    "--- \n",
    "\n",
    "Co to je vůbec ta funkce? Funkce je označení, pojmenování pro řádky kódu, které chceme používat vícekrát. Python má dostupných dost funkcí v základu a používáním těchto funkcí sí ulehčíme dost práce. Příkladem těchto základních funkcí je právě print() nebo input() ale je jich i daleko více. Všimněte si závorek u funkcí, do nich vkládáme argumenty funkce, tedy hodnoty s kterými chceme ve funkci pracovat. **Nemusíte dopodrobna rozumět obecně funkcím, budeme je probírat později,** prozatím postačí vědět, že funkce je pojmenoaný kód co plní nějaký úkol.\n",
    "\n",
    "Už jsme si řekli jak různé informace (data) můžeme v Pythonu uložit a jak s nimi můžeme základně pracovat, už jsme i v ukázkách viděli že něco můžeme zobrazit na obrazovce. Pojďme se na to podívat více dopodrobna a hlavně se podívat i na to, jak informace do Python programu načíst za běhu programu.\n",
    "\n",
    "# Funkce print()\n",
    "\n",
    "---\n",
    "\n",
    "Funkce print() nám slouží pro zobrazení nějakých informací do konzole počítače, tedy jednoduše na obrazovku. Říkáme, že printíme (tiskeneme, zobrazujeme, vypisujeme). Můžeme printit všechny datové typy, které jsme si představili v minulém souboru. \n",
    "\n",
    "Když chceme vypsat text, tak můžeme do závorky print funkce vložit textovou proměnnou a nebo text rovnou napsat v uvozovkách do této závorky:"
   ]
  },
  {
   "cell_type": "code",
   "execution_count": null,
   "metadata": {},
   "outputs": [],
   "source": [
    "text_k_vytisknuti = \"Ahoj Pepo, ako se máš?\"\n",
    "\n",
    "print(text_k_vytisknuti)\n",
    "\n",
    "print(\"Ahoj Franto, ako se máš\")"
   ]
  },
  {
   "cell_type": "markdown",
   "metadata": {},
   "source": [
    "Obdobně můžeme tisknout celá čísla, desetinná čísla či booleany:"
   ]
  },
  {
   "cell_type": "code",
   "execution_count": 3,
   "metadata": {},
   "outputs": [
    {
     "name": "stdout",
     "output_type": "stream",
     "text": [
      "5\n",
      "45\n",
      "2.25\n",
      "7.125\n",
      "True\n",
      "False\n"
     ]
    }
   ],
   "source": [
    "cislo_1 = 5\n",
    "desetinne_cislo_1 = 2.25\n",
    "hodnota_1 = True\n",
    "\n",
    "print(cislo_1)\n",
    "print(45)\n",
    "print(desetinne_cislo_1)\n",
    "print(7.125)\n",
    "print(hodnota_1)\n",
    "print(False)"
   ]
  },
  {
   "cell_type": "markdown",
   "metadata": {},
   "source": [
    "Můžeme i vypisované informace kombinovat a to rovnou několika způsoby, jednoduše psát názvy proměnných (nobo přímo hodnot) za sebe oddělené čárkami:"
   ]
  },
  {
   "cell_type": "code",
   "execution_count": 2,
   "metadata": {},
   "outputs": [
    {
     "name": "stdout",
     "output_type": "stream",
     "text": [
      "Já jsem Franta a je mi 26 let!\n"
     ]
    }
   ],
   "source": [
    "vek = 45\n",
    "jmeno = \"Franta\"\n",
    "\n",
    "print(\"Já jsem\", jmeno, \"a je mi\", vek, \"let!\")"
   ]
  },
  {
   "cell_type": "markdown",
   "metadata": {},
   "source": [
    "Ale mnohem elegantnějším způsobem je použití tzv. f-stringů (formated string neboli formátovaných textů), které nám dovolují zapisovat více informací přirozeněji do print funkce. Zapisujeme je tak, že před uvozovky přidáme f (jako formated) a pak do složených závorek ({}) vkládáme jména proměnných:"
   ]
  },
  {
   "cell_type": "code",
   "execution_count": null,
   "metadata": {},
   "outputs": [],
   "source": [
    "vek = 45\n",
    "jmeno = \"Franta\"\n",
    "\n",
    "print(f\"Já jsem {jmeno} a je mi {vek}!\")"
   ]
  },
  {
   "cell_type": "markdown",
   "metadata": {},
   "source": [
    "Všimněte si, že každá print funkce se zobrazila na nový řádek, kdybychom z nějakého důvodu tomuto chtěli předejít můžeme použít parametr funkce print jménem end, který svou hodnotu vloží nakonec tisknutého řádku, kde místo defaultního stavu \\n -> znak pro nový řádek vložíme jen prázdné uvozovky (nebo cokoli jíného) a to se vloží místo toho nakonec:"
   ]
  },
  {
   "cell_type": "code",
   "execution_count": 6,
   "metadata": {},
   "outputs": [
    {
     "name": "stdout",
     "output_type": "stream",
     "text": [
      "AhojPepo!\n",
      "Brambory pečený"
     ]
    }
   ],
   "source": [
    "print(\"Ahoj\", end=\"\")\n",
    "print(\"Pepo\", end=\"\")\n",
    "print(\"!\")\n",
    "\n",
    "print(\"Brambory \", end=\"pečený\")"
   ]
  },
  {
   "cell_type": "markdown",
   "metadata": {},
   "source": [
    "# Funkce input()\n",
    "\n",
    "---\n",
    "\n",
    "Funkce input narozdíl od funkce print slouží k načtení informací do běžícího Python programu, většinou tuhle informaci chceme vložit do proměnné a dále s ní pracovat, datový typ toho co načteme je defaultně text (string)."
   ]
  },
  {
   "cell_type": "code",
   "execution_count": 7,
   "metadata": {},
   "outputs": [
    {
     "data": {
      "text/plain": [
       "'asd'"
      ]
     },
     "execution_count": 7,
     "metadata": {},
     "output_type": "execute_result"
    }
   ],
   "source": [
    "jmeno = input()\n",
    "print(f\"Načtené jméno je {jmeno}.\")"
   ]
  },
  {
   "cell_type": "markdown",
   "metadata": {},
   "source": [
    "Pokud chceme dát zprávu uživateli co má zadat do programu, můžeme to vepsat do závorky funkce jakožto text:"
   ]
  },
  {
   "cell_type": "code",
   "execution_count": null,
   "metadata": {},
   "outputs": [],
   "source": [
    "jmeno = input(\"Zadejte své jméno: \")\n",
    "\n",
    "print(f\"Načtené jméno je {jmeno}.\")"
   ]
  },
  {
   "cell_type": "markdown",
   "metadata": {},
   "source": [
    "Pokud chceme načíst celé čí desetinné číslo musíme datový typ načtených informací změnit z textu na čislo. K tomu slouží funkce int(), k převedení na desetinné číslo pak funkce float():"
   ]
  },
  {
   "cell_type": "code",
   "execution_count": 8,
   "metadata": {},
   "outputs": [
    {
     "name": "stdout",
     "output_type": "stream",
     "text": [
      "Celé načtené číslo je 5 a desetinné je 5.5!\n"
     ]
    }
   ],
   "source": [
    "text_1 = input()\n",
    "text_2 = input()\n",
    "\n",
    "nactene_cislo = int(text_1)\n",
    "nactene_desetinne_cislo = float(text_2)\n",
    "\n",
    "print(f\"Celé načtené číslo je {nactene_cislo} a desetinné je {nactene_desetinne_cislo}!\")"
   ]
  },
  {
   "cell_type": "markdown",
   "metadata": {},
   "source": [
    "Když dáme tohle všechno dohromady tak si například můžeme načíst dvě čísla, pak je sečíst a vypsat je:"
   ]
  },
  {
   "cell_type": "code",
   "execution_count": 9,
   "metadata": {},
   "outputs": [
    {
     "name": "stdout",
     "output_type": "stream",
     "text": [
      "9\n"
     ]
    }
   ],
   "source": [
    "cislo_1 = int(input(\"Zadejte první sčítanec: \"))\n",
    "cislo_2 = int(input(\"Zadejte druhý sčítanec: \"))\n",
    "\n",
    "print(cislo_1 + cislo_2)"
   ]
  }
 ],
 "metadata": {
  "kernelspec": {
   "display_name": ".venv",
   "language": "python",
   "name": "python3"
  },
  "language_info": {
   "codemirror_mode": {
    "name": "ipython",
    "version": 3
   },
   "file_extension": ".py",
   "mimetype": "text/x-python",
   "name": "python",
   "nbconvert_exporter": "python",
   "pygments_lexer": "ipython3",
   "version": "3.12.4"
  }
 },
 "nbformat": 4,
 "nbformat_minor": 2
}
