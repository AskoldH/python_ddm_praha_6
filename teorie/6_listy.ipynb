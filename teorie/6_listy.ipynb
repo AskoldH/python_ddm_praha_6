{
 "cells": [
  {
   "cell_type": "markdown",
   "metadata": {},
   "source": [
    "Příklady k procvičení této teorie jsou [zde](../ukoly/3_ukoly.md).\n",
    "\n",
    "# Listy (seznamy) v Pythonu\n",
    "\n",
    "---\n",
    "\n",
    "U for cyklu jsme si říkali, že for cyklus prochází skrz položky něčeho (např. písmeny textu), tomu něčemu se říká datová struktru a takovou další datovou strukturou kterou můžeme procházet pomocí for cyklu je list.\n",
    "\n",
    "Ještě jednou co to je datová skturktura. Je to označení pro nějaký kontejner, obálku, do které strkáme nějaká data, tedy můžeme si ji představit jako soubor nespočtu proměnných. Datové struktury a tedy i listy používáme k tomu, abychom měli nějak zapouzdřeno více souvisejícíh dat pohromadě. Datové struktury a v Pythonu zejména listy jsou velmi užitečné, což si i ukážeme na příkladech.\n",
    "\n",
    "List pak je datová struktura do které vkládáme prvky pomocí funkce `append(prvek)`, prvky můžeme taky mazat pomocí funkce `pop()` či `remove(index)` (ukážeme si níže) a prvky jsou uloženy na nějakém indexu (nějaké očíslování), kde pvní prvek je na indexu 0 a poslední na indexu velikost listu mínus 1. Pojďme si to ukázat na příkladech:\n",
    "\n",
    "V prvních příkladu si je ukázáno, jak vůbec prázdný list vytvořit a tak, že přiřadíme do nějaké proměnné hranaté závorky `[]` (první řádek). Následně jsme do listu přidali tři jména pomocí funkce `append()`, do závorky u funkce append píšeme co chceme do listu přidat (můžou to být slova, písmena, texty, čísla, true/false hodnoty, další listy, ...), tento prvkek se pak přidá nakonec listu. Na posledním řádku pak tiskneme pomocí funkce `print()` první prvek tohoto listu (tedy na indexu 0), tedy vytiskneme to, co jsme přidali první, tedy jméno \"Pepa\":"
   ]
  },
  {
   "cell_type": "code",
   "execution_count": 2,
   "metadata": {},
   "outputs": [
    {
     "name": "stdout",
     "output_type": "stream",
     "text": [
      "Pepa\n"
     ]
    }
   ],
   "source": [
    "list_jmen = []\n",
    "list_jmen.append(\"Pepa\")\n",
    "list_jmen.append(\"Franta\")\n",
    "list_jmen.append(\"Eliška\")\n",
    "\n",
    "print(list_jmen[0])"
   ]
  },
  {
   "cell_type": "markdown",
   "metadata": {},
   "source": [
    "Co kdybychom chtěli vytisknout jméno \"Eliška\"?\n",
    "\n",
    "V druhé ukázce pak do hranatých závorek `[]` vkládáme rovnou prvky, které chceme mít v listu, takto vytvoříme rovnou list s danými prvky. Celý list pak také můžeme vytisknout pomocí funkce `print()`:"
   ]
  },
  {
   "cell_type": "code",
   "execution_count": 3,
   "metadata": {},
   "outputs": [
    {
     "name": "stdout",
     "output_type": "stream",
     "text": [
      "[5, 6, 7, 8, 9]\n"
     ]
    }
   ],
   "source": [
    "list_cisel = [5, 6, 7, 8]\n",
    "list_cisel.append(9)\n",
    "\n",
    "print(list_cisel)"
   ]
  },
  {
   "cell_type": "markdown",
   "metadata": {},
   "source": [
    "Z listy také můžeme položky mazat a to pomocí funkce `remove(index prvku co chceme vymazat)`, kde do závorky funkce remove napíšeme číslo indexu prvku, který chceme vymazat. Druhý způsob jak mazat z listu je pomocí funkce `pop()`, funkce pop vyjme prvek z konce listu, tento prvek si pak můžeme přiřadit do promměnné:"
   ]
  },
  {
   "cell_type": "code",
   "execution_count": null,
   "metadata": {},
   "outputs": [
    {
     "name": "stdout",
     "output_type": "stream",
     "text": [
      "Původní list čísel [0, 1, 2, 3, 4, 5, 6].\n",
      "List čísel po vymazání prvku na indexu 2: [0, 1, 3, 4, 5, 6].\n",
      "List čísel po pop(): [0, 1, 3, 4, 5].\n",
      "Poslední číslo: 6.\n"
     ]
    }
   ],
   "source": [
    "list_cisel = [0, 1, 2, 3, 4, 5, 6]\n",
    "print(f\"Původní list čísel {list_cisel}.\")\n",
    "\n",
    "list_cisel.remove(2)\n",
    "print(f\"List čísel po vymazání prvku na indexu 2: {list_cisel}.\")\n",
    "\n",
    "cislo = list_cisel.pop()\n",
    "print(f\"List čísel po pop(): {list_cisel}.\")\n",
    "print(f\"Poslední číslo: {cislo}.\")"
   ]
  },
  {
   "cell_type": "markdown",
   "metadata": {},
   "source": [
    "Listy můžeme třeba i třídit a to pomocí funkce `sort()`:"
   ]
  },
  {
   "cell_type": "code",
   "execution_count": 7,
   "metadata": {},
   "outputs": [
    {
     "name": "stdout",
     "output_type": "stream",
     "text": [
      "List před setřízením: ['Cecílie', 'Barbara', 'Alžběta'].\n",
      "List po setřízení: ['Alžběta', 'Barbara', 'Cecílie'].\n"
     ]
    }
   ],
   "source": [
    "list_jmen = [\"Cecílie\", \"Barbara\", \"Alžběta\"]\n",
    "print(f\"List před setřízením: {list_jmen}.\")\n",
    "\n",
    "list_jmen.sort()\n",
    "\n",
    "print(f\"List po setřízení: {list_jmen}.\")"
   ]
  },
  {
   "cell_type": "markdown",
   "metadata": {},
   "source": [
    "V listu také můžeme určit délku (počet prvků v něm) pomocí již známe funkce `len()`: "
   ]
  },
  {
   "cell_type": "code",
   "execution_count": 8,
   "metadata": {},
   "outputs": [
    {
     "name": "stdout",
     "output_type": "stream",
     "text": [
      "List je dlouhý 9 prvků.\n"
     ]
    }
   ],
   "source": [
    "list_cisel = [1, 7, 82, 7, 5, 26, 8, 12, 9]\n",
    "delka_listu_cisel = len(list_cisel)\n",
    "\n",
    "print(f\"List je dlouhý {delka_listu_cisel} prvků.\")"
   ]
  },
  {
   "cell_type": "markdown",
   "metadata": {},
   "source": [
    "A také můžeme určit zda daný prvek v listu je pomocí operátoru `in`. Dostaneme *True* pokud prvek v listu je a *False* pokud ne:"
   ]
  },
  {
   "cell_type": "code",
   "execution_count": 11,
   "metadata": {},
   "outputs": [
    {
     "name": "stdout",
     "output_type": "stream",
     "text": [
      "Písmeno B je v listu písmen.\n",
      "Písmeno není F je v listu písmen.\n"
     ]
    }
   ],
   "source": [
    "list_pismen = ['A', 'B', 'C', 'D', 'E']\n",
    "\n",
    "pismeno_co_hledam_1 = 'B'\n",
    "pismeno_co_hledam_2 = 'F'\n",
    "\n",
    "if pismeno_co_hledam_1 in list_pismen:\n",
    "    print(f\"Písmeno {pismeno_co_hledam_1} je v listu písmen.\")\n",
    "else:\n",
    "    print(f\"Písmeno není {pismeno_co_hledam_1} je v listu písmen.\")\n",
    "\n",
    "if pismeno_co_hledam_2 in list_pismen:\n",
    "    print(f\"Písmeno {pismeno_co_hledam_2} je v listu písmen.\")\n",
    "else: \n",
    "    print(f\"Písmeno není {pismeno_co_hledam_2} je v listu písmen.\")"
   ]
  },
  {
   "cell_type": "markdown",
   "metadata": {},
   "source": [
    "Tedy výsledkem je, že v listu `['A', 'B', 'C', 'D', 'E']` písmeno 'B' je a 'F' není.\n",
    "\n",
    "Také můžeme zjistit na jakém indexu prvek v listu je pomocí funkce `index(prvek)`, důležité je také znát, že pokud prvek v listu není a chceme zjistit jeho index, náš kód skončí chybou, tedy vždy nejdřív zkontrolujeme zda prvek v list je a pokud ano tak můžeme určit index:"
   ]
  },
  {
   "cell_type": "code",
   "execution_count": 17,
   "metadata": {},
   "outputs": [
    {
     "name": "stdout",
     "output_type": "stream",
     "text": [
      "Písmeno B je na indexu 1.\n"
     ]
    }
   ],
   "source": [
    "list_pismen = ['A', 'B', 'C', 'D', 'E']\n",
    "\n",
    "pismeno_co_hledam_1 = 'B'\n",
    "if pismeno_co_hledam_1 in list_pismen:\n",
    "    index_prvku_1 = list_pismen.index(pismeno_co_hledam_1)\n",
    "    print(f\"Písmeno {pismeno_co_hledam_1} je na indexu {index_prvku_1}.\")"
   ]
  },
  {
   "cell_type": "markdown",
   "metadata": {},
   "source": [
    "Zmiňoval jsem, že for cyklem můžem procházet cyklem. To uděláme to následovně:"
   ]
  },
  {
   "cell_type": "code",
   "execution_count": 14,
   "metadata": {},
   "outputs": [
    {
     "name": "stdout",
     "output_type": "stream",
     "text": [
      "7, 8, 5, 7, 4, 1, 23, 7, 8, 9, "
     ]
    }
   ],
   "source": [
    "list_cisel = [7, 8, 5, 7, 4, 1, 23, 7, 8, 9 ]\n",
    "for cislo in list_cisel:\n",
    "    print(cislo, end=\", \")"
   ]
  },
  {
   "cell_type": "markdown",
   "metadata": {},
   "source": [
    "Listy a operace s nimi nám podobně jako cyklu usnadňují práci když spracováváme více vstupů, více dat, tedy je dobré je znát ať jsme efektivnější programátoři."
   ]
  }
 ],
 "metadata": {
  "kernelspec": {
   "display_name": "Python 3",
   "language": "python",
   "name": "python3"
  },
  "language_info": {
   "codemirror_mode": {
    "name": "ipython",
    "version": 3
   },
   "file_extension": ".py",
   "mimetype": "text/x-python",
   "name": "python",
   "nbconvert_exporter": "python",
   "pygments_lexer": "ipython3",
   "version": "3.12.7"
  }
 },
 "nbformat": 4,
 "nbformat_minor": 2
}
