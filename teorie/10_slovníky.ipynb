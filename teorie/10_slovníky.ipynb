{
 "cells": [
  {
   "cell_type": "markdown",
   "metadata": {},
   "source": [
    "Příklady k procvičení této teorie jsou [zde](../ukoly/9_ukoly.md).\n",
    "\n",
    "# Slovníky (Dictionaries)\n",
    "---\n",
    "\n",
    "Slovníky jsou další datová struktura pro ukládání a manipulaci s více daty než jen s jednou proměnnou. Slovníky v Pythonu poznáme podle **složených závorek** `{}`, podobně jako u vytvoření listu, kdy jsme obsah listu vkládali do hranatých závorek `[]`, tak v případě slovníků to bude právě do složených. Do slovníku vkládáme páry, tedy dvojice vždy klíče a hodnoty (key - value pairs). Ze slovníku získáváme data pomocí klíče, pomocí páru klíč-hodnota pak zapisujeme nové páry do slovníku. Ukážeme si to v ukázkách. Slovníky můžou na první pohled vypadat zbytečně složitě oproti listům, které už známe, nicméně obojí má své výhody i nevýhody. Výhody slovníků jsou rychlost získání dat, pokud máme v listu a slovníku hodně dat, tak je rychlejší dostat se k určitým datům ve slovníku, zároveň slovník vyadřuje vztah mezi klíčem a hodnotou. Slovník může vypadat třeba takto:"
   ]
  },
  {
   "cell_type": "code",
   "execution_count": null,
   "metadata": {
    "vscode": {
     "languageId": "plaintext"
    }
   },
   "outputs": [],
   "source": [
    "barvy = {\"cervena\":\"#ff0000\", \"zelena\":\"#00ff00\"}\n",
    "\n",
    "print(f\"Hodnota pro klíč \\\"cervena\\\" je: {barvy[\"cervena\"]}.\")"
   ]
  },
  {
   "cell_type": "markdown",
   "metadata": {},
   "source": [
    "Tento slovník se jmenuje barvy, obsahuje dvojice (název barvy)-(její RGB kód). Získat hodnotu pro klíč `\"cervena\"` můžeme zajistit pomocí `barvy[\"cervena\"]`.Do slovníku taky můžem přidávat klíč-hodnota páry a následovně (přidáme do slovníku barvy zápis pro modrou):"
   ]
  },
  {
   "cell_type": "code",
   "execution_count": null,
   "metadata": {
    "vscode": {
     "languageId": "plaintext"
    }
   },
   "outputs": [],
   "source": [
    "barvy = {\"cervena\":\"#ff0000\", \"zelena\":\"#00ff00\"}\n",
    "print(f\"Slovník: {barvy}\")\n",
    "\n",
    "barvy[\"modra\"] = \"#0000ff\"\n",
    "print(f\"Slovník: {barvy}\")"
   ]
  },
  {
   "cell_type": "markdown",
   "metadata": {},
   "source": [
    "Jako hodnotu v klíč-hodnota páru můžeme mít libovolné data, třeba i listy, tedy pro jeden klíč pak máme několik hodnot v listu (pro (jméno)-(přezdívka, bydlíště, tel. číslo)):"
   ]
  },
  {
   "cell_type": "code",
   "execution_count": null,
   "metadata": {
    "vscode": {
     "languageId": "plaintext"
    }
   },
   "outputs": [],
   "source": [
    "lide = {\"Josef\":[\"Pepus Maximus\",\"Brno\",\"789 456 123\"], \"Markéta\":[\"Markys\",\"Olomouc\",\"777 894 567\"]}\n",
    "print(f\"Slovník: {lide}\")"
   ]
  },
  {
   "cell_type": "markdown",
   "metadata": {},
   "source": [
    "Dál se často hodí pro práci se slovníky i následující operace:"
   ]
  },
  {
   "cell_type": "code",
   "execution_count": null,
   "metadata": {
    "vscode": {
     "languageId": "plaintext"
    }
   },
   "outputs": [],
   "source": [
    "barvy = {\"cervena\":\"#ff0000\", \"zelena\":\"#00ff00\", \"modra\": \"#0000ff\"}\n",
    "\n",
    "print(f\"Klíče jsou: {barvy.keys()}.\")\n",
    "print(f\"Hodnoty jsou: {barvy.values()}.\")\n",
    "\n",
    "print(\"cervena\" in barvy)"
   ]
  },
  {
   "cell_type": "markdown",
   "metadata": {},
   "source": [
    "Pomocí `barvy.keys()`můžeme získat list všech klíčů ve slovníku, obdobně pomocí `barvy.values()` získáme list všech hodnot ve slovníku. Taky můžeme kontrolovat zda se klíč nachází ve slovníku pomocí operátoru `in`."
   ]
  }
 ],
 "metadata": {
  "language_info": {
   "name": "python"
  }
 },
 "nbformat": 4,
 "nbformat_minor": 2
}
