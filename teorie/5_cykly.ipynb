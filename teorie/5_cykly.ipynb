{
 "cells": [
  {
   "cell_type": "markdown",
   "metadata": {},
   "source": [
    "Příklady k procvičení této teorie jsou [zde](../ukoly/3_ukoly.md).\n",
    "\n",
    "# Cykly while a for v Pythonu\n",
    "\n",
    "---\n",
    "\n",
    "Nejdříve si projdeme k čemu slouží cykly obecně a následně si projdeme konkrétní způsoby jak cyklus zapsat pomocí `while` nebo `for`.\n",
    "\n",
    "Cykly slouží jednoduše k opakování nějakého kódu, například pokud chceme načíst a zpracvat více než jedno číslo od uživatele, tak to nemusíme dělat psaním několika `input()` funkcí pod sebe ale můžeme napsat cyklus, ve kterém bude jen jeden `input()` a tomuto cyklu řekneme, kolikrát se má vykonat.\n",
    "\n",
    "---\n",
    "\n",
    "# Cyklus while\n",
    "\n",
    "Cyklus `while` zapisujeme tak, že napíšeme klíčové slovo `while` a za něj podmínku a dvojtečku. Cyklus se bude provádět do té doby co bude platit daná podmínka, tedy její hondota bude pravda (true). Podmínkou je myšleno to stejné jako podmínky u `if-else` větví, tedy porovnávání čísel či textů nebo i složitější podmínky kterým se budeme věnovat někdy příště.\n",
    "\n",
    "Tohle je tedy ukázka jednoduchého `while` cyklu, kde máme proměnnou `i`, kterou v cyklu zvyšujeme o jedna a zároveň se vyskytuje v podmínky, kde ji porovnáváme oproti číslu 5, tento cyklus se tedy provede 5x, tedy 5x se vytiskne \"Ahoj světe\": "
   ]
  },
  {
   "cell_type": "code",
   "execution_count": null,
   "metadata": {},
   "outputs": [],
   "source": [
    "i = 0\n",
    "while i < 5:\n",
    "    print(\"Ahoj světe!\")\n",
    "    i = i + 1"
   ]
  },
  {
   "cell_type": "markdown",
   "metadata": {},
   "source": [
    "Cyklus while můžeme udělat i nekonečný tím, že místo podmínky vložíme `true`, tedy tento výraz bude vždy pravdivý, takto zkonstruovaný while cyklus pak můžeme ukončit pomocí klíčového slova `break`, tedy cyklus níže proběhne jen jednou (typicky chceme ale mít klíčové slovo `break` v nějaké podmínce uvnitř těla cyklu):"
   ]
  },
  {
   "cell_type": "code",
   "execution_count": null,
   "metadata": {},
   "outputs": [],
   "source": [
    "while True:\n",
    "    print(\"Hello world!\")\n",
    "    break"
   ]
  },
  {
   "cell_type": "markdown",
   "metadata": {},
   "source": [
    "Klíčové slovo `continue` nám zase dovoluje přeskočit v těle cyklu zpět na kontrolu podmínky tedy na začátek cyklu, tímto způsobem můžeme přeskočit určité opakování (v příkladu například přeskočíme opakování kde je `i==3`): "
   ]
  },
  {
   "cell_type": "code",
   "execution_count": null,
   "metadata": {},
   "outputs": [],
   "source": [
    "i = 0\n",
    "while i < 5:\n",
    "    if i == 3:\n",
    "        continue\n",
    "    print(\"Ahoj světe!\")\n",
    "    i = i + 1"
   ]
  },
  {
   "cell_type": "markdown",
   "metadata": {},
   "source": [
    "Opakováním cyklů říkají programátoři iterace cyklu, často chceme tyto iterace (opakování) počítat a nějak s nimi dále pracovat, v programování obvykle číslujeme položky od čísla 0. V příkladu vypisujeme čísla iterací cyklů: "
   ]
  },
  {
   "cell_type": "code",
   "execution_count": null,
   "metadata": {},
   "outputs": [],
   "source": [
    "i = 0\n",
    "while i < 5:\n",
    "    print(f\"Iterace číslo: {i}\")\n",
    "    i = i + 1"
   ]
  }
 ],
 "metadata": {
  "kernelspec": {
   "display_name": "Python 3",
   "language": "python",
   "name": "python3"
  },
  "language_info": {
   "name": "python",
   "version": "3.12.7"
  }
 },
 "nbformat": 4,
 "nbformat_minor": 2
}
