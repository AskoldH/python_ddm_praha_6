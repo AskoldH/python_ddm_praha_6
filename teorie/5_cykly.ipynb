{
 "cells": [
  {
   "cell_type": "markdown",
   "metadata": {},
   "source": [
    "Příklady k procvičení této teorie jsou [zde](../ukoly/3_ukoly.md).\n",
    "\n",
    "# Cykly while a for v Pythonu\n",
    "\n",
    "---\n",
    "\n",
    "Nejdříve si projdeme k čemu slouží cykly obecně a následně si projdeme konkrétní způsoby jak cyklus zapsat pomocí `while` nebo `for`.\n",
    "\n",
    "Cykly slouží jednoduše k opakování nějakého kódu, například pokud chceme načíst a zpracvat více než jedno číslo od uživatele, tak to nemusíme dělat psaním několika `input()` funkcí pod sebe ale můžeme napsat cyklus, ve kterém bude jen jeden `input()` a tomuto cyklu řekneme, kolikrát se má vykonat.\n",
    "\n",
    "---\n",
    "\n",
    "# Cyklus while\n",
    "\n",
    "Cyklus `while` zapisujeme tak, že napíšeme klíčové slovo `while` a za něj podmínku a dvojtečku. Cyklus se bude provádět do té doby co bude platit daná podmínka, tedy její hondota bude pravda (true). Podmínkou je myšleno to stejné jako podmínky u `if-else` větví, tedy porovnávání čísel či textů nebo i složitější podmínky kterým se budeme věnovat někdy příště.\n",
    "\n",
    "Tohle je tedy ukázka jednoduchého `while` cyklu, kde máme proměnnou `i`, kterou v cyklu zvyšujeme o jedna a zároveň se vyskytuje v podmínky, kde ji porovnáváme oproti číslu 5, tento cyklus se tedy provede 5x, tedy 5x se vytiskne \"Ahoj světe\": "
   ]
  },
  {
   "cell_type": "code",
   "execution_count": 4,
   "metadata": {},
   "outputs": [
    {
     "name": "stdout",
     "output_type": "stream",
     "text": [
      "Ahoj světe!\n",
      "Ahoj světe!\n",
      "Ahoj světe!\n",
      "Ahoj světe!\n",
      "Ahoj světe!\n"
     ]
    }
   ],
   "source": [
    "i = 0\n",
    "while i < 5:\n",
    "    print(\"Ahoj světe!\")\n",
    "    i = i + 1"
   ]
  },
  {
   "cell_type": "markdown",
   "metadata": {},
   "source": [
    "Cyklus while můžeme udělat i nekonečný tím, že místo podmínky vložíme `true`, tedy tento výraz bude vždy pravdivý, takto zkonstruovaný while cyklus pak můžeme ukončit pomocí klíčového slova `break`, tedy cyklus níže proběhne jen jednou (typicky chceme ale mít klíčové slovo `break` v nějaké podmínce uvnitř těla cyklu):"
   ]
  },
  {
   "cell_type": "code",
   "execution_count": 5,
   "metadata": {},
   "outputs": [
    {
     "name": "stdout",
     "output_type": "stream",
     "text": [
      "Hello world!\n"
     ]
    }
   ],
   "source": [
    "while True:\n",
    "    print(\"Hello world!\")\n",
    "    break"
   ]
  },
  {
   "cell_type": "markdown",
   "metadata": {},
   "source": [
    "Klíčové slovo `continue` nám zase dovoluje přeskočit v těle cyklu zpět na kontrolu podmínky tedy na začátek cyklu, tímto způsobem můžeme přeskočit určité opakování (v příkladu například přeskočíme opakování kde je `i==3`): "
   ]
  },
  {
   "cell_type": "code",
   "execution_count": 6,
   "metadata": {},
   "outputs": [
    {
     "name": "stdout",
     "output_type": "stream",
     "text": [
      "Ahoj světe!\n",
      "Ahoj světe!\n",
      "Ahoj světe!\n",
      "Ahoj světe!\n"
     ]
    }
   ],
   "source": [
    "i = 0\n",
    "while i < 5:\n",
    "    if i == 3:\n",
    "        i = i + 1\n",
    "        continue\n",
    "    print(\"Ahoj světe!\")\n",
    "    i = i + 1"
   ]
  },
  {
   "cell_type": "markdown",
   "metadata": {},
   "source": [
    "Opakováním cyklů říkají programátoři iterace cyklu, často chceme tyto iterace (opakování) počítat a nějak s nimi dále pracovat, v programování obvykle číslujeme položky od čísla 0. V příkladu vypisujeme čísla iterací cyklů: "
   ]
  },
  {
   "cell_type": "code",
   "execution_count": 7,
   "metadata": {},
   "outputs": [
    {
     "name": "stdout",
     "output_type": "stream",
     "text": [
      "Iterace číslo: 0\n",
      "Iterace číslo: 1\n",
      "Iterace číslo: 2\n",
      "Iterace číslo: 3\n",
      "Iterace číslo: 4\n"
     ]
    }
   ],
   "source": [
    "i = 0\n",
    "while i < 5:\n",
    "    print(f\"Iterace číslo: {i}\")\n",
    "    i = i + 1"
   ]
  },
  {
   "cell_type": "markdown",
   "metadata": {},
   "source": [
    "\n",
    "---\n",
    "\n",
    "# Cyklus for\n",
    "Cyklus for (jinak for loop) je o něco složitější něž cyklus while. Slouží kromě opakování i k procházení například textů nebo listů (ukážeme si později). Zapisujeme ho tak, že napíšeme klíčové slovo `for` a za něj umístíme to, čím chceme procházet. Pro nás se zatím bude hodit použítí s `range()`:\n"
   ]
  },
  {
   "cell_type": "code",
   "execution_count": 1,
   "metadata": {},
   "outputs": [
    {
     "name": "stdout",
     "output_type": "stream",
     "text": [
      "0\n",
      "1\n",
      "2\n",
      "3\n",
      "4\n"
     ]
    }
   ],
   "source": [
    "for cislo in range(5):\n",
    "    print(cislo)"
   ]
  },
  {
   "cell_type": "markdown",
   "metadata": {},
   "source": [
    "Tedy tímto způsobem vyrobíme cyklus, který projde čísla v rozsahu 0 až 4 (5 čísel). Procházená čísla můžeme samozřejmě tisknout nebo je můžeme nějak jinak zpracovávat. Všimněme si, že příkaz končí zase dvojtečkou `:` obdobně jako podmínky nebo while cyklus. Všimněme si dále, že bychom tento for cyklus mohli přečíst tak nějak přirozeně jako pro (for) číslo (cislo) v (in) rozsahu 5 (range(5)) udělej něco... Když zkoumáme co dělají cykly for tak tento \"přepis\" se může hodit k pochopení co nějaký for loop vlastně dělá.\n",
    "\n",
    "Pojďmě si ale ještě více vysvětlit funkci `range()`, můžeme mít několik možností jak tuhle funkci zapsat, např.:\n",
    "\n",
    "- `range(3)`: rozsah 0 až 2 (nula až číslo v závorce -1)... 0, 1, 2\n",
    "- `range(5, 10)`: rozsah 5 až 9 (první číslo v závorce až druhé číslo v závorce -1)... 5, 6, 7, 8, 9\n",
    "- `range(10, 30, 5)`: rozsah 10 až 29 a skáčeme po 5 (první čislo v závorce až druhé číslo v závorce -1 a přeskakujeme po třetím čísle v závorce)... 10, 15, 20, 25\n",
    "\n",
    "Můžeme procházet nejen rozsahy čísel ale třeba i texty po písmenech pomocí:"
   ]
  },
  {
   "cell_type": "code",
   "execution_count": 2,
   "metadata": {},
   "outputs": [
    {
     "name": "stdout",
     "output_type": "stream",
     "text": [
      "A\n",
      "h\n",
      "o\n",
      "j\n",
      "d\n",
      "a\n"
     ]
    }
   ],
   "source": [
    "text = \"Ahojda\"\n",
    "\n",
    "for pismeno in text:\n",
    "    print(pismeno)"
   ]
  },
  {
   "cell_type": "markdown",
   "metadata": {},
   "source": [
    "Všimněme si také, že celkem jednoduše si můžeme tisknout na obrazovku čísla iterací:"
   ]
  },
  {
   "cell_type": "code",
   "execution_count": 3,
   "metadata": {},
   "outputs": [
    {
     "name": "stdout",
     "output_type": "stream",
     "text": [
      "Číslo iterace: 1\n",
      "Číslo iterace: 2\n",
      "Číslo iterace: 3\n",
      "Číslo iterace: 4\n"
     ]
    }
   ],
   "source": [
    "for cislo in range(4):\n",
    "    print(f\"Číslo iterace: {cislo+1}\")"
   ]
  },
  {
   "cell_type": "markdown",
   "metadata": {},
   "source": [
    "A na závěr povídání o for cyklu. V for cyklech fungují klíčová slova `break` a `continue` stejně jako ve while cyklu. Tedy pokud v cyklu program narazí na `break`, tak se cyklus ukončí a program pokračuje ve vykonávání za cyklem. Pokud narazí na `continue` tak program skočí na začátek cyklu a nedokončí aktuální opakování (aktuální iteraci).\n",
    "\n",
    "Oba cykly, while i for, se hodí k různým věcem, je dobré znát oba dva a když potřebujeme v programu něco opakovat či něčím procházet tak se jen rozhodneme který použijeme. Pokud neí hned zřejmé jaký cyklus použít, prostě to jedním zkusme a pokud to nepůjde nebo to bude moc komlipkované zkusme použít druhý."
   ]
  }
 ],
 "metadata": {
  "kernelspec": {
   "display_name": "Python 3",
   "language": "python",
   "name": "python3"
  },
  "language_info": {
   "codemirror_mode": {
    "name": "ipython",
    "version": 3
   },
   "file_extension": ".py",
   "mimetype": "text/x-python",
   "name": "python",
   "nbconvert_exporter": "python",
   "pygments_lexer": "ipython3",
   "version": "3.13.1"
  }
 },
 "nbformat": 4,
 "nbformat_minor": 2
}
