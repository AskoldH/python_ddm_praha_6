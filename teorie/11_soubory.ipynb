{
 "cells": [
  {
   "cell_type": "markdown",
   "id": "26e93ae5",
   "metadata": {},
   "source": [
    "Příklady k procvičení této teorie jsou [zde](../ukoly/9_ukoly.md). Budou to modifikované úkoly \"kámen nůžky\" a \"sledovač známek\". Podrobnosti o tom jak tam využít soubory vám vysvětlím na kroužku.\n",
    "\n",
    "# Práce se soubory\n",
    "---\n",
    "\n",
    "Data z aplikací můžeme ukládát několika způsoby, například do databáze či do souborů, na to jak funguje ukládání do souborů a načítání dat z nich se podíváme právě v tomto teoretickém souboru. \n",
    "\n",
    "Ukážeme si to na příkladu:"
   ]
  },
  {
   "cell_type": "code",
   "execution_count": null,
   "id": "bf7932ea",
   "metadata": {
    "vscode": {
     "languageId": "plaintext"
    }
   },
   "outputs": [],
   "source": [
    "with open('soubor.txt', 'r') as soubor:\n",
    "    radek = soubor.readline()\n",
    "    print(radek)"
   ]
  },
  {
   "cell_type": "markdown",
   "id": "6eeb562e",
   "metadata": {},
   "source": [
    "Tímto způsobem můžeme načíst jeden řádek ze souboru, používáme klíčové slovo `with`, za ním následuje funkce `open()` jejíž první parametr je název souboru (nebo cesta k němu pokud soubor je v jiné složce než ve které je Python soubor) a druhý parametr je mód ve kterém chceme soubor otevřít, tady ho otevíráme s `r` což znamená že ho chceme číst (**r**ead). Za funkcí `open()` následuje klíčové slovo as a název proměnné, do které chceme otevřený soubor (spíše odkaz na něj) uložit, v našem případě se proměnná jmenuje `soubor`. Následně můžeme na proměnné `soubor` zavolat funkci `readline()`, která vrátí jeden řádek souboru jako string, ten pak v tomto příkladu vypíšeme klasicky pomocí funkce `print()`. \n",
    "\n",
    "Jak ale načíst celý soubor? ... :"
   ]
  },
  {
   "cell_type": "code",
   "execution_count": null,
   "id": "d305a411",
   "metadata": {
    "vscode": {
     "languageId": "plaintext"
    }
   },
   "outputs": [],
   "source": [
    "with open('soubor.txt', 'r') as soubor:\n",
    "    for radek in soubor:\n",
    "        print(radek)"
   ]
  },
  {
   "cell_type": "markdown",
   "id": "f5f02661",
   "metadata": {},
   "source": [
    "Tímto způsobem načteme a vypíšeme celý soubor řádek po řádku. Použíjeme jednoduše for loop, proměnnou `soubor` totiž můžeme procházet.\n",
    "\n",
    "Jak ale zpracovat řádek? ... :"
   ]
  },
  {
   "cell_type": "code",
   "execution_count": null,
   "id": "41b1c2fd",
   "metadata": {
    "vscode": {
     "languageId": "plaintext"
    }
   },
   "outputs": [],
   "source": [
    "with open('soubor.txt', 'r') as soubor:\n",
    "    radek = soubor.readline()\n",
    "    for slovo in radek.split():\n",
    "        print(slovo)"
   ]
  },
  {
   "cell_type": "markdown",
   "id": "de2f5c86",
   "metadata": {},
   "source": [
    "Tímto způsobem můžeme vytisknout jednotlivě všechna slova na řádku. Abychom řádkem mohli procházet, tak musíme použít funkci `split()`, ta nám rozdělí řádek na slova mezerami, tato funkce vrací list slov, který následně můžeme procházet for loopem.\n",
    "\n",
    "Jak ale zapisovat do souboru? ... :"
   ]
  },
  {
   "cell_type": "code",
   "execution_count": null,
   "id": "1da4e0f5",
   "metadata": {
    "vscode": {
     "languageId": "plaintext"
    }
   },
   "outputs": [],
   "source": [
    "with open('soubor.txt', 'w') as soubor:\n",
    "    soubor.write(\"Hello world!\\n\")\n",
    "    soubor.write(\"Toto a tamto!\\n\")"
   ]
  },
  {
   "cell_type": "markdown",
   "id": "76d143a3",
   "metadata": {},
   "source": [
    "V tomto příkladu používáme podobnou strukturu jako v prvním příkladu, nicméně druhý parametr funkce `open()` je `w`, tedy mód nastavujeme na zapisování (**w**rite), následně můžeme používat funkci `write()` na proměnné `soubor`, kteá nám dovoluje zapisovat string (text) do otevřeného souboru. Všimněte si, že musíme napsat na konci stringu `\\n` abychom vytvořili zalomení řádku v souboru, bez teho by se zapisovalo jen na jeden řádek souboru. "
   ]
  }
 ],
 "metadata": {
  "language_info": {
   "name": "python"
  }
 },
 "nbformat": 4,
 "nbformat_minor": 5
}
