{
 "cells": [
  {
   "cell_type": "markdown",
   "metadata": {},
   "source": [
    "Příklady k procvičení této teorie jsou [zde](../ukoly/7_ukoly.md).\n",
    "\n",
    "# Funkce\n",
    "---\n",
    "\n",
    "Funkce je blok kódu, který můžete opakovaně použít v programu. V Pythonu definujete funkci pomocí klíčového slova `def` a následuje název funkce. Poté můžete definovat (určit) vstupní parametry v závorkách (tedy to s čím chceme ve funkci pracovat).\n",
    "Uvnitř funkce můžete provádět různé operace s těmito parametry a můžete také definovat návratovou hodnotu, kterou funkce vrátí zpět, když je volána, můžeme vracet například číslo nebo string. Funkci vyvoláme napsáním jejího názvu a za něj vložíme závorky (případné parametry se umisťují do závorek). Funkce slouží k tomu, abychom psali přehlehlednější kód, schováváme klidně i dlouhé částy kódu do jednoho řádku. Taky díky funkcím můžeme určitý úkon velice jednoduše zopakovat.\n",
    "\n",
    "---\n",
    "\n",
    "V této ukázce máme jednu fuknci s názvem \"rekni_ahoj\", v ní je jen jeden print, po zavolání funkce (napsání názvu funkce), se provede obsah funkce (vyprintí se \"Hello world\"). Důležíté je si všimnou zápisu. Pro označení použijeme klíčové slovo \"def\", za ním následuje název funkce a závorky, dvojtečka je za nimi, pod tímto řádkem následuje už blok kódu funkce:"
   ]
  },
  {
   "cell_type": "code",
   "execution_count": 4,
   "metadata": {},
   "outputs": [
    {
     "name": "stdout",
     "output_type": "stream",
     "text": [
      "Hello world!\n"
     ]
    }
   ],
   "source": [
    "def rekni_ahoj():\n",
    "    print(\"Hello world!\")\n",
    "\n",
    "rekni_ahoj()"
   ]
  },
  {
   "cell_type": "markdown",
   "metadata": {},
   "source": [
    "V této ukázce přidáváme do funkce \"rekni_ahoj\" parametr (název \"jmeno\" v závorce), tento parametr můžeme používát kdekoli ve funkci. Když si funkci vyvoláme, tak zadáme do závorek za název funkce, přesně tím, co tam zadáme, budeme pracovat v bloku kódu funkce:"
   ]
  },
  {
   "cell_type": "code",
   "execution_count": 5,
   "metadata": {},
   "outputs": [
    {
     "name": "stdout",
     "output_type": "stream",
     "text": [
      "Ahoj Petr\n"
     ]
    }
   ],
   "source": [
    "def rekni_ahoj(jmeno):\n",
    "    print(f\"Ahoj {jmeno}\")\n",
    "\n",
    "rekni_ahoj(\"Petr\")"
   ]
  },
  {
   "cell_type": "markdown",
   "metadata": {},
   "source": [
    "V ukázce, ve funkci používám klíčové slovo return pro vrácení hodnoty (v tomto případě True pokud je číslo sudé, False pokud je liché, funkce bool() se používá na převod hodnoty na boolean -> True/False hodnotu). V kódu níže se funkce přímo rovná vrácené hodnotě, tím pádem se můžeme pomocí této hodnoty rozhodnout:"
   ]
  },
  {
   "cell_type": "code",
   "execution_count": 6,
   "metadata": {},
   "outputs": [
    {
     "name": "stdout",
     "output_type": "stream",
     "text": [
      "Číslo je 7.\n",
      "Číslo je liché!\n"
     ]
    }
   ],
   "source": [
    "def je_sude(cislo):\n",
    "    print(f\"Číslo je {cislo}.\")\n",
    "    return (not bool(cislo % 2))\n",
    "\n",
    "if je_sude(7):\n",
    "    print(\"Číslo je sudé!\")\n",
    "else:\n",
    "    print(\"Číslo je liché!\")"
   ]
  }
 ],
 "metadata": {
  "kernelspec": {
   "display_name": "Python 3",
   "language": "python",
   "name": "python3"
  },
  "language_info": {
   "codemirror_mode": {
    "name": "ipython",
    "version": 3
   },
   "file_extension": ".py",
   "mimetype": "text/x-python",
   "name": "python",
   "nbconvert_exporter": "python",
   "pygments_lexer": "ipython3",
   "version": "3.13.2"
  }
 },
 "nbformat": 4,
 "nbformat_minor": 2
}
