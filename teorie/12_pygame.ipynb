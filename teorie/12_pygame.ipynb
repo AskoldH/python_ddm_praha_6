{
 "cells": [
  {
   "cell_type": "markdown",
   "id": "b2278bb0",
   "metadata": {},
   "source": [
    "# Pygame\n",
    "\n",
    "---\n",
    "\n",
    "Pygame je python knihovna (tedy ji musíme nainstalovat pomocí `pip install pygame` a naimportovat do našeho python souboru pomocí `import pygame`, tedy podoběn třeba jako `import random` pro náhodné generování nejen čísel). Pygame slouží pro vykreslování \"okénkové\" aplikace, nebudeme tedy už pracovat jen v konzoli a psát tam text, nicméně podíváme se na to, jak tvořit grafické rozhraní pro uživatele (GUI) a naučíme se, jak v tomto grafickém prostředí něco dělat, jelikož nám půjde o tvoření her, tak například ovládání hráče v prostředí. \n",
    "\n",
    "Začneme s tím, jak vůbec zobrazit okno:"
   ]
  },
  {
   "cell_type": "code",
   "execution_count": null,
   "id": "6e1c8cd5",
   "metadata": {},
   "outputs": [],
   "source": [
    "import pygame\n",
    "\n",
    "# Inicializace Pygame\n",
    "pygame.init()\n",
    "\n",
    "# Nastavení velikosti okna (šířka, výška)\n",
    "width, height = 800, 600\n",
    "screen = pygame.display.set_mode((width, height))\n",
    "\n",
    "# Titulek okna\n",
    "pygame.display.set_caption(\"Pygame gameska\")\n",
    "\n",
    "# Herní smyčka - běží pořád dokola\n",
    "running = True\n",
    "while running:\n",
    "    for event in pygame.event.get():\n",
    "        if event.type == pygame.QUIT:\n",
    "            running = False\n",
    "\n",
    "    # Vyplnění pozadí barvou (např. bílou)\n",
    "    screen.fill((255, 255, 255))\n",
    "\n",
    "    # Aktualizace obrazovky\n",
    "    pygame.display.flip()\n",
    "\n",
    "# Ukončení Pygame\n",
    "pygame.quit()"
   ]
  },
  {
   "cell_type": "markdown",
   "id": "dfb1a877",
   "metadata": {},
   "source": [
    "Tento kód zobrazí bíle okno s popiskem \"Pygame gameska\" o velikosti 800x600 pixelů. Projděte si celý kód. Nejdřív importujeme Pygame, následovně inicializujeme (spouštíme) Pygame, následně nastavujme velikost okna, nastavujeme titulek okna a následuje herní smyčka, v této smyčce se vykresluje obrazovka (my ji vykreslujeme jen bílou), mohou se zde vypočítávát například pozice hráče a zároveň zde kontrolujeme zda uživatel neukončil hru, abychom pak mohli ukončit celou aplikaci.\n",
    "\n",
    "Jak ale něco vykreslit? Základní geometrické útvary můžeme vykreslit pomocí `pygame.draw....`, které umístíme před příkaz `pygame.display.flip()`, který updatuje obrazovku. V Pygame funguje systém souřadnic (odpovídají pixelům obrazovky), tedy pokud chceme něco někam vykreslit, musíme uvést co a kam. Tedy např. `pygame.draw.rect(screen, (0, 0, 255), (100, 100, 200, 100))` vykreslí obdelník na obrazovku `screen` (máme ji tam jako proměnnou), s barvou v RGB `(0, 0, 255)` což je modrá, na pozici `100, 100` (střed útvaru) a s délkou a šířkou `200, 100`. Obdobně můžeme vykreslit kruh pomocí `pygame.draw.circle(screen, (255, 0, 0), (400, 300), 50)`, kde zase vykreslujeme na obrazovku `screen`, barva je červená `(255, 0, 0)`, se tředem na souřadnici `(400, 300)` a s poloměrem `50`. Nebo třeba `pygame.draw.polygon(screen, (0, 255, 0), [(200, 200), (250, 100), (300, 200)])` vykreslí zelený trojúhelník se vrcholy na souřadnících `(200, 200)`, `(250, 100)` a `(300, 200)`, pomocí `pygame.draw.polygon(...)` můžeme vykreslit i jiný mnohoúhelník, přidáme jen další souřadnici vrcholu a Pygame nám tvar spojí.\n",
    "\n",
    "Už umíme vykreslovat tvary, ale chtělo by to i umět ovládat jejich pozici (pohybovat s nimi) pomocí WASD kláves. To můžeme udělat následovně:"
   ]
  },
  {
   "cell_type": "code",
   "execution_count": null,
   "id": "60bf6da2",
   "metadata": {},
   "outputs": [],
   "source": [
    "import pygame\n",
    "\n",
    "# Inicializace Pygame\n",
    "pygame.init()\n",
    "\n",
    "# Nastavení velikosti okna (šířka, výška)\n",
    "width, height = 800, 600\n",
    "screen = pygame.display.set_mode((width, height))\n",
    "\n",
    "# Titulek okna\n",
    "pygame.display.set_caption(\"Pygame gameska\")\n",
    "\n",
    "# Pozice hráče - na začátku uprostřed\n",
    "player_pos = pygame.Vector2(screen.get_width() / 2, screen.get_height() / 2)\n",
    "\n",
    "# Herní smyčka - běží pořád dokola\n",
    "running = True\n",
    "while running:\n",
    "    for event in pygame.event.get():\n",
    "        if event.type == pygame.QUIT:\n",
    "            running = False\n",
    "\n",
    "    # Vyplnění pozadí barvou (např. bílou)\n",
    "    screen.fill((255, 255, 255))\n",
    "    \n",
    "    # Zjistíme co uživatel zmáčknul\n",
    "    keys = pygame.key.get_pressed()\n",
    "    if keys[pygame.K_w]: # Zmáčknul W?\n",
    "        player_pos.y -= 1\n",
    "    if keys[pygame.K_s]: # Zmáčknul S?\n",
    "        player_pos.y += 1\n",
    "    if keys[pygame.K_a]: # Zmáčknul A?\n",
    "        player_pos.x -= 1\n",
    "    if keys[pygame.K_d]: # Zmáčknul D?\n",
    "        player_pos.x += 1\n",
    "\n",
    "    # Vykreslení kruhu na pozici prayer_pos\n",
    "    pygame.draw.circle(screen, (255, 0, 0), player_pos, 40)\n",
    "\n",
    "    # Aktualizace obrazovky\n",
    "    pygame.display.flip()\n",
    "\n",
    "# Ukončení Pygame\n",
    "pygame.quit()\n"
   ]
  },
  {
   "cell_type": "markdown",
   "id": "9c813c7f",
   "metadata": {},
   "source": [
    "Tento kód je stejný, jako pro vykreslení prázdené obrazovky, jen jsme přidali informaci o pozici uživatele jako dvojici hodnot (`pygame.Vector2(...)`), tuhle pozici měníme na z herní smyčky, kde si zíkáme pomocí `keys = pygame.key.get_pressed()` co uživatel zmáčknul za klávesy a následně pomocí `if keys[pygame.K_s]:` atd. kontrolujeme, zda zmáčknul klávesu pro pohyb a pokud ano, tak přičítáme nebo odčítáme k souřadnicím daný posun."
   ]
  }
 ],
 "metadata": {
  "kernelspec": {
   "display_name": ".venv",
   "language": "python",
   "name": "python3"
  },
  "language_info": {
   "name": "python",
   "version": "3.13.2"
  }
 },
 "nbformat": 4,
 "nbformat_minor": 5
}
