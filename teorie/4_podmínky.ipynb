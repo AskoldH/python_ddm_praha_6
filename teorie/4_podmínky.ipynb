{
 "cells": [
  {
   "cell_type": "markdown",
   "metadata": {},
   "source": [
    "Příklady k procvičení této teorie jsou [zde](../ukoly/2_ukoly.md).\n",
    "\n",
    "# Rozhodování neboli podmínky v Pythonu\n",
    "\n",
    "---\n",
    "\n",
    "Zatím naše programy vždy provedly stejné příkazy, nebyli jsme schopni \"rozvětvit\" program do více možných scénářů. Často chceme například reagovat na vstup uživatele, podle toho, co do programu napíše my spustíme nějakou akci. K tomu potřebujeme podmínky, v Pythonu často nazývané jako _if-else_ větve. Tento princip si ukážeme na příkladech níže.\n",
    "\n",
    "Pro jednoduchou podmínku použijeme jeden _if blok_. Za klíčové slovo _if_ vkládáme samotnou podmínky, což je operace jejíž výsledkem je datový typ boolean (připomeňme si, že to je jen pravda nebo nepravda). Pokud vyjde podmínka pravda, pak se _if blok_ provede, pokud je podmínka nepravda, pak se neprovede. \n",
    "\n",
    "Operace jejíž výsledkem je boolean:\n",
    "* Porovnání čísel: `==` (rovná se), `!=` (nerovná se), `<` menší než, `<=` menší než nebo rovno, `>` větší než, `>=` větší než nebo rovno. \n",
    "\n",
    "* Porovnání textů (nebo i jen písmen): `==` (texty jsou stejné), `!=` (texty nejsou stejné)\n",
    "\n",
    "* Složitější složené výrazy: Předvedeme si příště (v dalším souboru)\n",
    "\n",
    "Jednoduchý _if blok_ (všímněte si odsazení print funkce, díky tomuto odsazaní poznáme, co ještě patří do _if bloku_ a co nikoli, tedy druhá funkce print už v něm není a provede se vždy neboli nezáleží na podmínce):"
   ]
  },
  {
   "cell_type": "code",
   "execution_count": 2,
   "metadata": {},
   "outputs": [
    {
     "name": "stdout",
     "output_type": "stream",
     "text": [
      "Proměnná cislo má hodnotu 5.\n",
      "Ahoj Pepo!\n"
     ]
    }
   ],
   "source": [
    "cislo = 5\n",
    "\n",
    "if cislo == 5:\n",
    "    print(f\"Proměnná cislo má hodnotu 5.\")\n",
    "\n",
    "print(\"Ahoj Pepo!\")"
   ]
  },
  {
   "cell_type": "markdown",
   "metadata": {},
   "source": [
    "Pro více rozvětvění a tedy pro více podmínek používáme _elif bloky_, vkládáme je za úvodní _if blok_, můžeme vytvořit podle potřeby kolik chceme. Znova si všimněte odsazení, které určuje jaké příkazy patří do jakého _if_ nebo _elif bloku_: "
   ]
  },
  {
   "cell_type": "code",
   "execution_count": null,
   "metadata": {},
   "outputs": [],
   "source": [
    "cislo = 4\n",
    "\n",
    "if cislo == 1:\n",
    "    print(\"Proměnná cislo má hodnotu jedna!\")\n",
    "elif cislo == 2:\n",
    "    print(\"Proměnná cislo má hodnotu dva!\")\n",
    "elif cislo == 3:\n",
    "    print(\"Proměnná cislo má hodnotu tři!\")\n",
    "elif cislo == 4:\n",
    "    print(\"Proměnná cislo má hodnotu čtyři!\")"
   ]
  },
  {
   "cell_type": "markdown",
   "metadata": {},
   "source": [
    "Pokud chceme přidat defaultní výsledek _if-else větví_, tak přidáme _else blok_, který se provede až pokud všechny předchozí _if_ a _elif bloky_ se neprovedou (tedy podmínka bude nepravda). _else blok_ vkldáme na konec všech _if-else větví_:   "
   ]
  },
  {
   "cell_type": "code",
   "execution_count": 1,
   "metadata": {},
   "outputs": [
    {
     "name": "stdout",
     "output_type": "stream",
     "text": [
      "Číslo je 1!\n"
     ]
    }
   ],
   "source": [
    "text = \"Pepa\"\n",
    "\n",
    "if text == \"Pepa\":\n",
    "    print(\"Pozdravuji Pepu!\")\n",
    "\n",
    "elif text == \"Petr\":\n",
    "    print(\"Pozdravuji Petra!\")\n",
    "\n",
    "else:\n",
    "    print(\"Zdravím tě cizinče!\")"
   ]
  },
  {
   "cell_type": "markdown",
   "metadata": {},
   "source": [
    "Už jsem se zmínil o porovnávání čísel. Porovnávání dvou (načtených) čísel by vypadalo následovně:"
   ]
  },
  {
   "cell_type": "code",
   "execution_count": 3,
   "metadata": {},
   "outputs": [
    {
     "name": "stdout",
     "output_type": "stream",
     "text": [
      "cislo_1 je menší než cislo_2\n"
     ]
    }
   ],
   "source": [
    "cislo_1 = int(input(\"Zadejte první číslo: \"))\n",
    "cislo_2 = int(input(\"Zadejte druhé číslo: \"))\n",
    "\n",
    "if cislo_1 < cislo_2:\n",
    "    print(\"cislo_1 je menší než cislo_2\")"
   ]
  },
  {
   "cell_type": "markdown",
   "metadata": {},
   "source": [
    "Podmínky můžeme vkládat i do sebe, tedy vytvoříme _vnořené podmínky_. To se nám často hodí, jen si musíme dávat pozor na odsazení, každý další blok je o jedno odsazen (většinou o jeden tabulátor). Vnořené podmínky mohou vypadat následovně:"
   ]
  },
  {
   "cell_type": "code",
   "execution_count": 4,
   "metadata": {},
   "outputs": [
    {
     "name": "stdout",
     "output_type": "stream",
     "text": [
      "Číslo je menší než 3 a větší než nula.\n"
     ]
    }
   ],
   "source": [
    "cislo = 2\n",
    "\n",
    "if cislo < 3:\n",
    "    if cislo > 0:\n",
    "        print(\"Číslo je menší než 3 a větší než nula.\")\n",
    "    elif cislo < 0:\n",
    "        print(\"Číslo je menší než tři a i menší než nula\")\n",
    "\n",
    "elif cislo >= 3:\n",
    "    print(\"Číslo je větší nebo robno třem.\")"
   ]
  },
  {
   "cell_type": "markdown",
   "metadata": {},
   "source": [
    "Princip podmínek je jedním z nejdůležitějších princípů v programování, je dobré pochopit k čemu slouží. Naprostá většína dnešních programů a v sobě nějaké podmínky, tedy se nějakým způsobem větví do více scénářů.\n",
    "\n",
    "Po projití tohoto dokumentu by jste měli být schopni v Pythonu podmínku zapsat, nicméně reálné pochopení podmínek nastane až po projití a vyzkoušení [příkladů](../ukoly/2_ukoly.md), tak se do toho vrhněte!"
   ]
  }
 ],
 "metadata": {
  "kernelspec": {
   "display_name": ".venv",
   "language": "python",
   "name": "python3"
  },
  "language_info": {
   "codemirror_mode": {
    "name": "ipython",
    "version": 3
   },
   "file_extension": ".py",
   "mimetype": "text/x-python",
   "name": "python",
   "nbconvert_exporter": "python",
   "pygments_lexer": "ipython3",
   "version": "3.12.4"
  }
 },
 "nbformat": 4,
 "nbformat_minor": 2
}
